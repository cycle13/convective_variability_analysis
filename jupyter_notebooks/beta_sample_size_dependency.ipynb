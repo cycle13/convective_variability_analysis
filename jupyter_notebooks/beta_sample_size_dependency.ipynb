{
 "cells": [
  {
   "cell_type": "markdown",
   "metadata": {},
   "source": [
    "# $\\beta$-sample size dependency\n",
    "\n",
    "$\\beta$ is defined as \n",
    "\n",
    "$\\beta =  \\frac{\\langle ( \\delta m)^2 \\rangle_j}{\\langle m \\rangle_j^2}$,\n",
    "\n",
    "where $m$ is the mean cloud mass flux. Since for a perfect exponential distribution the variance is equal to the square of the mean, $\\beta$ is an indicator whether a distribution is narrower or broader than anexponential distribution.\n",
    "\n",
    "In this notebook, we test how sensitive this parameter is to the size of the sample out of the exponential distribution. This allows us then to define a minimum sample size for which we trust our statistics. \n",
    "\n",
    "To do this we draw `n_sample` numbers from an exponential distribution and compute $\\beta$. We repeat this `n_iter` times for each sample size and then look at the mean $\\beta$. Since our original distribution is perfectly exponential, we expect to get $\\beta = 1$."
   ]
  },
  {
   "cell_type": "code",
   "execution_count": 2,
   "metadata": {},
   "outputs": [],
   "source": [
    "from __future__ import print_function\n",
    "import numpy as np\n",
    "import matplotlib.pyplot as plt\n",
    "%matplotlib inline"
   ]
  },
  {
   "cell_type": "code",
   "execution_count": 3,
   "metadata": {
    "collapsed": true
   },
   "outputs": [],
   "source": [
    "# Define function to compute beta\n",
    "def calc_beta(sample):\n",
    "    return np.var(sample, ddof = 1)/np.mean(sample)**2"
   ]
  },
  {
   "cell_type": "code",
   "execution_count": 15,
   "metadata": {
    "collapsed": true
   },
   "outputs": [],
   "source": [
    "# Define settings\n",
    "mean_m = 5.07e7   # Mean m from paper\n",
    "n_iter = 100000    # Number of iterations\n",
    "# Define artificial sample sizes\n",
    "n_sample = (range(2,100,1) + range(100, 1000, 20) + range(1000, 2000, 200))"
   ]
  },
  {
   "cell_type": "code",
   "execution_count": 16,
   "metadata": {},
   "outputs": [],
   "source": [
    "# Loop over sample sizes and compute mean beta over all iterations\n",
    "beta_list = []\n",
    "for ns in n_sample:\n",
    "    tmplist_beta = []\n",
    "    for ni in range(n_iter):\n",
    "        sample_beta = np.random.exponential(mean_m, ns)\n",
    "        tmplist_beta.append(calc_beta(sample_beta))\n",
    "    beta_list.append(np.mean(tmplist_beta))"
   ]
  },
  {
   "cell_type": "code",
   "execution_count": 17,
   "metadata": {},
   "outputs": [
    {
     "data": {
      "image/png": "[encoded data removed]",
      "text/plain": [
       "<matplotlib.figure.Figure at 0x7f75759c6fd0>"
      ]
     },
     "metadata": {},
     "output_type": "display_data"
    }
   ],
   "source": [
    "# Plot result\n",
    "fig, ax = plt.subplots(1,1, figsize=(10, 5))\n",
    "ax.plot(n_sample, beta_list, linewidth = 2, c = 'k')\n",
    "ax.set_xlabel('Sample size')\n",
    "ax.set_ylabel(r'$\\beta$')\n",
    "ax.set_xscale('log')\n",
    "ax.set_title(r'Dependency of $\\beta$ on sample size')\n",
    "ax.axhline(1, color='gray', zorder=0.1)\n",
    "plt.tight_layout()"
   ]
  },
  {
   "cell_type": "markdown",
   "metadata": {},
   "source": [
    "## Result\n",
    "\n",
    "There is a clear dependency of $\\beta$ on the size of the sample. For a sample size of 10, $\\beta$ is approximately 0.9. For a sample size of 100, $\\beta$ approaches one. For the analysis in our paper we therefore decide to drop all grid points which have 10 or less clouds. While this still leaves a small bias, this threshold should remove the most drastic outliers."
   ]
  },
  {
   "cell_type": "code",
   "execution_count": null,
   "metadata": {
    "collapsed": true
   },
   "outputs": [],
   "source": []
  }
 ],
 "metadata": {
  "kernelspec": {
   "display_name": "Python 2",
   "language": "python",
   "name": "python2"
  },
  "language_info": {
   "codemirror_mode": {
    "name": "ipython",
    "version": 2
   },
   "file_extension": ".py",
   "mimetype": "text/x-python",
   "name": "python",
   "nbconvert_exporter": "python",
   "pygments_lexer": "ipython2",
   "version": "2.7.13"
  }
 },
 "nbformat": 4,
 "nbformat_minor": 2
}
